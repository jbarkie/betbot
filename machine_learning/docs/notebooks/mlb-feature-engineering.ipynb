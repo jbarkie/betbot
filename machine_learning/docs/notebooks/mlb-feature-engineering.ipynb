{
 "cells": [
  {
   "cell_type": "markdown",
   "metadata": {},
   "source": [
    "# Feature Engineering\n",
    "\n",
    "## MLB Current Season Statistics by Team\n",
    "\n",
    "This notebook performs feature engineering using MLB current season statistics for a given matchup between two teams. The generated features will be used to make informed predictions on the matchup outcome."
   ]
  },
  {
   "cell_type": "markdown",
   "metadata": {},
   "source": [
    "### Notebook Setup\n",
    "\n",
    "Import the necessary dependencies."
   ]
  },
  {
   "cell_type": "code",
   "execution_count": 1,
   "metadata": {},
   "outputs": [],
   "source": [
    "import pandas as pd\n",
    "from datetime import datetime\n",
    "from pprint import pprint\n",
    "\n",
    "from utils.notebook_setup import setup_notebook_env, load_env_variables"
   ]
  },
  {
   "cell_type": "markdown",
   "metadata": {},
   "source": [
    "Setup the notebook environment so that the root directory of the project can be accessed and the required environment variables are loaded to configure connection to the PostgreSQL database. "
   ]
  },
  {
   "cell_type": "code",
   "execution_count": 2,
   "metadata": {},
   "outputs": [],
   "source": [
    "setup_notebook_env()\n",
    "load_env_variables()"
   ]
  },
  {
   "cell_type": "markdown",
   "metadata": {},
   "source": [
    "Import dependencies from higher-level modules that can now be accessed, and connect to the database."
   ]
  },
  {
   "cell_type": "code",
   "execution_count": 3,
   "metadata": {},
   "outputs": [],
   "source": [
    "from shared.database import connect_to_db\n",
    "from machine_learning.analysis.mlb_time_series import (\n",
    "    TeamTimeSeriesAnalyzer\n",
    ")\n",
    "from machine_learning.analysis.mlb_feature_engineering import (\n",
    "    GameFeatureGenerator\n",
    ")\n",
    "\n",
    "session = connect_to_db()"
   ]
  },
  {
   "cell_type": "markdown",
   "metadata": {},
   "source": [
    "### Feature Generation\n",
    "\n",
    "Read the relevant database tables into DataFrames and calculate rolling statistics for a given window size, all to be used in feature generation."
   ]
  },
  {
   "cell_type": "code",
   "execution_count": 4,
   "metadata": {},
   "outputs": [],
   "source": [
    "teams_df = pd.read_sql_table('mlb_teams', session.bind)\n",
    "schedule_df = pd.read_sql_table('mlb_schedule', session.bind)\n",
    "offensive_stats_df = pd.read_sql_table('mlb_offensive_stats', session.bind)\n",
    "defensive_stats_df = pd.read_sql_table('mlb_defensive_stats', session.bind)\n",
    "\n",
    "rolling_stats = TeamTimeSeriesAnalyzer(\n",
    "    window_size=10\n",
    ").calculate_rolling_stats(\n",
    "    schedule_df=schedule_df,\n",
    "    teams_df=teams_df\n",
    ")"
   ]
  },
  {
   "cell_type": "markdown",
   "metadata": {},
   "source": [
    "Generate the features for a given matchup."
   ]
  },
  {
   "cell_type": "code",
   "execution_count": 5,
   "metadata": {},
   "outputs": [
    {
     "name": "stdout",
     "output_type": "stream",
     "text": [
      "{'away_batting_avg': 0.248,\n",
      " 'away_days_rest': 21.0,\n",
      " 'away_era': 3.74,\n",
      " 'away_obp': 0.333,\n",
      " 'away_rolling_runs_allowed': 4.1,\n",
      " 'away_rolling_runs_scored': 4.8,\n",
      " 'away_rolling_win_pct': 0.6,\n",
      " 'away_slg': 0.429,\n",
      " 'away_strikeouts': 1457,\n",
      " 'away_whip': 1.24,\n",
      " 'h2h_away_win_pct': 0.333,\n",
      " 'h2h_games_played': 3,\n",
      " 'h2h_home_win_pct': 0.667,\n",
      " 'home_batting_avg': 0.258,\n",
      " 'home_days_rest': 21.0,\n",
      " 'home_era': 3.9,\n",
      " 'home_obp': 0.335,\n",
      " 'home_rolling_runs_allowed': 3.5,\n",
      " 'home_rolling_runs_scored': 6.2,\n",
      " 'home_rolling_win_pct': 0.7,\n",
      " 'home_slg': 0.446,\n",
      " 'home_strikeouts': 1390,\n",
      " 'home_whip': 1.23}\n"
     ]
    }
   ],
   "source": [
    "game_feature_generator = GameFeatureGenerator(rolling_window=10, head_to_head_window=5)\n",
    "\n",
    "home_team_id = teams_df.loc[teams_df['name'] == 'Los Angeles Dodgers'].iloc[0]['id']\n",
    "away_team_id = teams_df.loc[teams_df['name'] == 'New York Yankees'].iloc[0]['id']\n",
    "\n",
    "features = game_feature_generator.generate_game_features(\n",
    "    home_team_id=home_team_id,\n",
    "    away_team_id=away_team_id,\n",
    "    game_date=datetime.now(),\n",
    "    rolling_stats=rolling_stats,\n",
    "    offensive_stats=offensive_stats_df,\n",
    "    defensive_stats=defensive_stats_df,\n",
    "    schedule_df=schedule_df\n",
    ")\n",
    "\n",
    "pprint(features)"
   ]
  }
 ],
 "metadata": {
  "kernelspec": {
   "display_name": "venv",
   "language": "python",
   "name": "python3"
  },
  "language_info": {
   "codemirror_mode": {
    "name": "ipython",
    "version": 3
   },
   "file_extension": ".py",
   "mimetype": "text/x-python",
   "name": "python",
   "nbconvert_exporter": "python",
   "pygments_lexer": "ipython3",
   "version": "3.11.5"
  }
 },
 "nbformat": 4,
 "nbformat_minor": 2
}
