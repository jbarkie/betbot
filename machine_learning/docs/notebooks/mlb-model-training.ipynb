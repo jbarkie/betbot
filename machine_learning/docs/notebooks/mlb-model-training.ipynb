{
 "cells": [
  {
   "cell_type": "markdown",
   "metadata": {},
   "source": [
    "# Model Training and Evaluation \n",
    "\n",
    "## Predicting MLB game results\n",
    "\n",
    "This notebook explores the training and evaluation of machine learning models on the outcomes of MLB games using a dataset composed of current season statistics."
   ]
  },
  {
   "cell_type": "markdown",
   "metadata": {},
   "source": [
    "### Notebook Setup\n",
    "\n",
    "Import the necessary dependencies."
   ]
  },
  {
   "cell_type": "code",
   "execution_count": 1,
   "metadata": {},
   "outputs": [],
   "source": [
    "import pandas as pd\n",
    "from datetime import datetime\n",
    "from sklearn.model_selection import TimeSeriesSplit\n",
    "from sklearn.ensemble import RandomForestClassifier\n",
    "from sklearn.metrics import accuracy_score, precision_score, recall_score, f1_score\n",
    "from utils.notebook_setup import setup_notebook_env, load_env_variables"
   ]
  },
  {
   "cell_type": "markdown",
   "metadata": {},
   "source": [
    "Setup the notebook environment. Add the project root to `sys.path` so higher-level modules can be accessed from this notebook, and load environment variables that are required to configure connection to the PostgreSQL database."
   ]
  },
  {
   "cell_type": "code",
   "execution_count": 2,
   "metadata": {},
   "outputs": [],
   "source": [
    "setup_notebook_env()\n",
    "load_env_variables()"
   ]
  },
  {
   "cell_type": "markdown",
   "metadata": {},
   "source": [
    "Now, import the remaining dependencies that couldn't be accessed prior to the notebook environment setup, and connect to the database."
   ]
  },
  {
   "cell_type": "code",
   "execution_count": 3,
   "metadata": {},
   "outputs": [],
   "source": [
    "from shared.database import connect_to_db\n",
    "from machine_learning.data.processing.mlb_data_pipeline import MLBDataPipeline\n",
    "\n",
    "session = connect_to_db()"
   ]
  },
  {
   "cell_type": "markdown",
   "metadata": {},
   "source": [
    "### Model Selection\n",
    "\n",
    "Read the relevant database tables into DataFrames so training data can be prepared using the data pipeline class."
   ]
  },
  {
   "cell_type": "code",
   "execution_count": 4,
   "metadata": {},
   "outputs": [],
   "source": [
    "teams_df = pd.read_sql_table(\"mlb_teams\", session.bind)\n",
    "schedule_df = pd.read_sql_table(\"mlb_schedule\", session.bind)\n",
    "offensive_stats_df = pd.read_sql_table(\"mlb_offensive_stats\", session.bind)\n",
    "defensive_stats_df = pd.read_sql_table(\"mlb_defensive_stats\", session.bind)"
   ]
  },
  {
   "cell_type": "markdown",
   "metadata": {},
   "source": [
    "Prepare training data for a given date range."
   ]
  },
  {
   "cell_type": "code",
   "execution_count": 5,
   "metadata": {},
   "outputs": [],
   "source": [
    "data_pipeline = MLBDataPipeline(rolling_window=10, head_to_head_window=5)\n",
    "\n",
    "start_date = datetime(2024, 5, 1)\n",
    "end_date = datetime(2024, 10, 1)\n",
    "\n",
    "training_data = data_pipeline.prepare_training_data(\n",
    "    schedule_df=schedule_df,\n",
    "    teams_df=teams_df,\n",
    "    offensive_stats_df=offensive_stats_df,\n",
    "    defensive_stats_df=defensive_stats_df,\n",
    "    start_date=start_date,\n",
    "    end_date=end_date\n",
    ")"
   ]
  },
  {
   "cell_type": "markdown",
   "metadata": {},
   "source": [
    "Inspect the training data for missing values or any other inconsistencies."
   ]
  },
  {
   "cell_type": "code",
   "execution_count": null,
   "metadata": {},
   "outputs": [
    {
     "data": {
      "text/html": [
       "<div>\n",
       "<style scoped>\n",
       "    .dataframe tbody tr th:only-of-type {\n",
       "        vertical-align: middle;\n",
       "    }\n",
       "\n",
       "    .dataframe tbody tr th {\n",
       "        vertical-align: top;\n",
       "    }\n",
       "\n",
       "    .dataframe thead th {\n",
       "        text-align: right;\n",
       "    }\n",
       "</style>\n",
       "<table border=\"1\" class=\"dataframe\">\n",
       "  <thead>\n",
       "    <tr style=\"text-align: right;\">\n",
       "      <th></th>\n",
       "      <th>home_rolling_win_pct</th>\n",
       "      <th>away_rolling_win_pct</th>\n",
       "      <th>home_rolling_runs_scored</th>\n",
       "      <th>away_rolling_runs_scored</th>\n",
       "      <th>home_rolling_runs_allowed</th>\n",
       "      <th>away_rolling_runs_allowed</th>\n",
       "      <th>home_days_rest</th>\n",
       "      <th>away_days_rest</th>\n",
       "      <th>home_batting_avg</th>\n",
       "      <th>away_batting_avg</th>\n",
       "      <th>home_obp</th>\n",
       "      <th>away_obp</th>\n",
       "      <th>home_slg</th>\n",
       "      <th>away_slg</th>\n",
       "      <th>home_era</th>\n",
       "      <th>away_era</th>\n",
       "      <th>home_whip</th>\n",
       "      <th>away_whip</th>\n",
       "      <th>home_strikeouts</th>\n",
       "      <th>away_strikeouts</th>\n",
       "      <th>h2h_home_win_pct</th>\n",
       "      <th>h2h_away_win_pct</th>\n",
       "      <th>h2h_games_played</th>\n",
       "      <th>game_id</th>\n",
       "      <th>game_date</th>\n",
       "      <th>home_team_id</th>\n",
       "      <th>away_team_id</th>\n",
       "      <th>home_team_won</th>\n",
       "      <th>run_differential</th>\n",
       "    </tr>\n",
       "  </thead>\n",
       "  <tbody>\n",
       "    <tr>\n",
       "      <th>0</th>\n",
       "      <td>0.6</td>\n",
       "      <td>0.5</td>\n",
       "      <td>4.7</td>\n",
       "      <td>3.7</td>\n",
       "      <td>3.7</td>\n",
       "      <td>5.4</td>\n",
       "      <td>1.0</td>\n",
       "      <td>1.0</td>\n",
       "      <td>0.234</td>\n",
       "      <td>0.248</td>\n",
       "      <td>0.300</td>\n",
       "      <td>0.312</td>\n",
       "      <td>0.385</td>\n",
       "      <td>0.392</td>\n",
       "      <td>3.61</td>\n",
       "      <td>4.04</td>\n",
       "      <td>1.16</td>\n",
       "      <td>1.26</td>\n",
       "      <td>1354</td>\n",
       "      <td>1308</td>\n",
       "      <td>0.5</td>\n",
       "      <td>0.5</td>\n",
       "      <td>2</td>\n",
       "      <td>746478</td>\n",
       "      <td>2024-05-01</td>\n",
       "      <td>116</td>\n",
       "      <td>138</td>\n",
       "      <td>True</td>\n",
       "      <td>3.0</td>\n",
       "    </tr>\n",
       "    <tr>\n",
       "      <th>1</th>\n",
       "      <td>0.5</td>\n",
       "      <td>0.3</td>\n",
       "      <td>3.8</td>\n",
       "      <td>3.2</td>\n",
       "      <td>5.2</td>\n",
       "      <td>5.0</td>\n",
       "      <td>1.0</td>\n",
       "      <td>1.0</td>\n",
       "      <td>0.248</td>\n",
       "      <td>0.230</td>\n",
       "      <td>0.326</td>\n",
       "      <td>0.302</td>\n",
       "      <td>0.403</td>\n",
       "      <td>0.366</td>\n",
       "      <td>3.65</td>\n",
       "      <td>3.77</td>\n",
       "      <td>1.23</td>\n",
       "      <td>1.20</td>\n",
       "      <td>1373</td>\n",
       "      <td>1406</td>\n",
       "      <td>0.5</td>\n",
       "      <td>0.5</td>\n",
       "      <td>2</td>\n",
       "      <td>745996</td>\n",
       "      <td>2024-05-01</td>\n",
       "      <td>158</td>\n",
       "      <td>139</td>\n",
       "      <td>True</td>\n",
       "      <td>6.0</td>\n",
       "    </tr>\n",
       "    <tr>\n",
       "      <th>2</th>\n",
       "      <td>0.3</td>\n",
       "      <td>0.9</td>\n",
       "      <td>4.1</td>\n",
       "      <td>6.7</td>\n",
       "      <td>5.5</td>\n",
       "      <td>3.7</td>\n",
       "      <td>1.0</td>\n",
       "      <td>1.0</td>\n",
       "      <td>0.221</td>\n",
       "      <td>0.246</td>\n",
       "      <td>0.278</td>\n",
       "      <td>0.315</td>\n",
       "      <td>0.340</td>\n",
       "      <td>0.411</td>\n",
       "      <td>4.67</td>\n",
       "      <td>4.26</td>\n",
       "      <td>1.44</td>\n",
       "      <td>1.23</td>\n",
       "      <td>1366</td>\n",
       "      <td>1500</td>\n",
       "      <td>0.0</td>\n",
       "      <td>1.0</td>\n",
       "      <td>5</td>\n",
       "      <td>746800</td>\n",
       "      <td>2024-05-01</td>\n",
       "      <td>145</td>\n",
       "      <td>142</td>\n",
       "      <td>False</td>\n",
       "      <td>-5.0</td>\n",
       "    </tr>\n",
       "    <tr>\n",
       "      <th>3</th>\n",
       "      <td>0.4</td>\n",
       "      <td>0.4</td>\n",
       "      <td>3.1</td>\n",
       "      <td>3.9</td>\n",
       "      <td>4.3</td>\n",
       "      <td>4.0</td>\n",
       "      <td>1.0</td>\n",
       "      <td>1.0</td>\n",
       "      <td>0.241</td>\n",
       "      <td>0.248</td>\n",
       "      <td>0.313</td>\n",
       "      <td>0.306</td>\n",
       "      <td>0.389</td>\n",
       "      <td>0.403</td>\n",
       "      <td>4.29</td>\n",
       "      <td>3.76</td>\n",
       "      <td>1.27</td>\n",
       "      <td>1.24</td>\n",
       "      <td>1314</td>\n",
       "      <td>1339</td>\n",
       "      <td>0.4</td>\n",
       "      <td>0.6</td>\n",
       "      <td>5</td>\n",
       "      <td>744939</td>\n",
       "      <td>2024-05-01</td>\n",
       "      <td>141</td>\n",
       "      <td>118</td>\n",
       "      <td>False</td>\n",
       "      <td>-5.0</td>\n",
       "    </tr>\n",
       "    <tr>\n",
       "      <th>4</th>\n",
       "      <td>0.6</td>\n",
       "      <td>0.3</td>\n",
       "      <td>3.3</td>\n",
       "      <td>2.3</td>\n",
       "      <td>3.6</td>\n",
       "      <td>3.8</td>\n",
       "      <td>1.0</td>\n",
       "      <td>1.0</td>\n",
       "      <td>0.233</td>\n",
       "      <td>0.234</td>\n",
       "      <td>0.301</td>\n",
       "      <td>0.301</td>\n",
       "      <td>0.393</td>\n",
       "      <td>0.371</td>\n",
       "      <td>4.37</td>\n",
       "      <td>4.15</td>\n",
       "      <td>1.33</td>\n",
       "      <td>1.31</td>\n",
       "      <td>1263</td>\n",
       "      <td>1356</td>\n",
       "      <td>1.0</td>\n",
       "      <td>0.0</td>\n",
       "      <td>2</td>\n",
       "      <td>745670</td>\n",
       "      <td>2024-05-01</td>\n",
       "      <td>133</td>\n",
       "      <td>134</td>\n",
       "      <td>True</td>\n",
       "      <td>4.0</td>\n",
       "    </tr>\n",
       "  </tbody>\n",
       "</table>\n",
       "</div>"
      ],
      "text/plain": [
       "   home_rolling_win_pct  away_rolling_win_pct  home_rolling_runs_scored  \\\n",
       "0                   0.6                   0.5                       4.7   \n",
       "1                   0.5                   0.3                       3.8   \n",
       "2                   0.3                   0.9                       4.1   \n",
       "3                   0.4                   0.4                       3.1   \n",
       "4                   0.6                   0.3                       3.3   \n",
       "\n",
       "   away_rolling_runs_scored  home_rolling_runs_allowed  \\\n",
       "0                       3.7                        3.7   \n",
       "1                       3.2                        5.2   \n",
       "2                       6.7                        5.5   \n",
       "3                       3.9                        4.3   \n",
       "4                       2.3                        3.6   \n",
       "\n",
       "   away_rolling_runs_allowed  home_days_rest  away_days_rest  \\\n",
       "0                        5.4             1.0             1.0   \n",
       "1                        5.0             1.0             1.0   \n",
       "2                        3.7             1.0             1.0   \n",
       "3                        4.0             1.0             1.0   \n",
       "4                        3.8             1.0             1.0   \n",
       "\n",
       "   home_batting_avg  away_batting_avg  home_obp  away_obp  home_slg  away_slg  \\\n",
       "0             0.234             0.248     0.300     0.312     0.385     0.392   \n",
       "1             0.248             0.230     0.326     0.302     0.403     0.366   \n",
       "2             0.221             0.246     0.278     0.315     0.340     0.411   \n",
       "3             0.241             0.248     0.313     0.306     0.389     0.403   \n",
       "4             0.233             0.234     0.301     0.301     0.393     0.371   \n",
       "\n",
       "   home_era  away_era  home_whip  away_whip  home_strikeouts  away_strikeouts  \\\n",
       "0      3.61      4.04       1.16       1.26             1354             1308   \n",
       "1      3.65      3.77       1.23       1.20             1373             1406   \n",
       "2      4.67      4.26       1.44       1.23             1366             1500   \n",
       "3      4.29      3.76       1.27       1.24             1314             1339   \n",
       "4      4.37      4.15       1.33       1.31             1263             1356   \n",
       "\n",
       "   h2h_home_win_pct  h2h_away_win_pct  h2h_games_played game_id  game_date  \\\n",
       "0               0.5               0.5                 2  746478 2024-05-01   \n",
       "1               0.5               0.5                 2  745996 2024-05-01   \n",
       "2               0.0               1.0                 5  746800 2024-05-01   \n",
       "3               0.4               0.6                 5  744939 2024-05-01   \n",
       "4               1.0               0.0                 2  745670 2024-05-01   \n",
       "\n",
       "   home_team_id  away_team_id  home_team_won  run_differential  \n",
       "0           116           138           True               3.0  \n",
       "1           158           139           True               6.0  \n",
       "2           145           142          False              -5.0  \n",
       "3           141           118          False              -5.0  \n",
       "4           133           134           True               4.0  "
      ]
     },
     "execution_count": 6,
     "metadata": {},
     "output_type": "execute_result"
    }
   ],
   "source": [
    "training_data.head()"
   ]
  },
  {
   "cell_type": "markdown",
   "metadata": {},
   "source": [
    "Create an instance of the `TimeSeriesSplit` Time Series cross-validator, and drop any irrelevant columns from the training data. Define and instantiate the models to be evaluated, and create the empty `results` object to be used to store the performance metrics for each model."
   ]
  },
  {
   "cell_type": "code",
   "execution_count": 7,
   "metadata": {},
   "outputs": [],
   "source": [
    "tscv = TimeSeriesSplit(n_splits=5)\n",
    "\n",
    "timestamp_cols = training_data.select_dtypes(include=[\"datetime64\"]).columns\n",
    "\n",
    "feature_cols = [col for col in training_data.columns if col not in [\"home_team_won\", \"run_differential\"] + list(timestamp_cols)]\n",
    "\n",
    "models = {\n",
    "    \"random_forest\": RandomForestClassifier(n_estimators=100, random_state=42)\n",
    "}\n",
    "\n",
    "results = {}"
   ]
  },
  {
   "cell_type": "markdown",
   "metadata": {},
   "source": [
    "Fit and train each model, using the Time Series cross-validator to split the data into training and test splits. Then, predict and evaluate each model for each fold of the training data, and store the results."
   ]
  },
  {
   "cell_type": "code",
   "execution_count": 8,
   "metadata": {},
   "outputs": [],
   "source": [
    "for name, model in models.items():\n",
    "    fold_scores = []\n",
    "    for train_index, test_index in tscv.split(training_data):\n",
    "        X_train, X_test = training_data.iloc[train_index][feature_cols], training_data.iloc[test_index][feature_cols]\n",
    "        y_train, y_test = training_data.iloc[train_index][\"home_team_won\"], training_data.iloc[test_index][\"home_team_won\"]\n",
    "\n",
    "        model.fit(X_train, y_train)\n",
    "        y_pred = model.predict(X_test)\n",
    "\n",
    "        scores = {\n",
    "            \"accuracy\": accuracy_score(y_test, y_pred),\n",
    "            \"precision\": precision_score(y_test, y_pred),\n",
    "            \"recall\": recall_score(y_test, y_pred),\n",
    "            \"f1\": f1_score(y_test, y_pred)\n",
    "        }\n",
    "        fold_scores.append(scores)\n",
    "        \n",
    "    results[name] = fold_scores"
   ]
  },
  {
   "cell_type": "markdown",
   "metadata": {},
   "source": [
    "Inspect the results of the Random Forest classifier."
   ]
  },
  {
   "cell_type": "code",
   "execution_count": 9,
   "metadata": {},
   "outputs": [
    {
     "data": {
      "text/plain": [
       "accuracy     0.535562\n",
       "precision    0.549762\n",
       "recall       0.608086\n",
       "f1           0.576760\n",
       "dtype: float64"
      ]
     },
     "execution_count": 9,
     "metadata": {},
     "output_type": "execute_result"
    }
   ],
   "source": [
    "results_df = pd.DataFrame(results[\"random_forest\"])\n",
    "\n",
    "results_df.mean()"
   ]
  }
 ],
 "metadata": {
  "kernelspec": {
   "display_name": "venv",
   "language": "python",
   "name": "python3"
  },
  "language_info": {
   "codemirror_mode": {
    "name": "ipython",
    "version": 3
   },
   "file_extension": ".py",
   "mimetype": "text/x-python",
   "name": "python",
   "nbconvert_exporter": "python",
   "pygments_lexer": "ipython3",
   "version": "3.11.5"
  }
 },
 "nbformat": 4,
 "nbformat_minor": 2
}
