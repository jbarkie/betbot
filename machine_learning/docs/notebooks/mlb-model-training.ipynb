{
 "cells": [
  {
   "cell_type": "markdown",
   "metadata": {},
   "source": [
    "# Model Training and Evaluation \n",
    "\n",
    "## Predicting MLB game results\n",
    "\n",
    "This notebook explores the training and evaluation of machine learning models on the outcomes of MLB games using a dataset composed of current season statistics."
   ]
  },
  {
   "cell_type": "markdown",
   "metadata": {},
   "source": [
    "### Notebook Setup\n",
    "\n",
    "Import the necessary dependencies."
   ]
  },
  {
   "cell_type": "code",
   "execution_count": 31,
   "metadata": {},
   "outputs": [],
   "source": [
    "import pandas as pd\n",
    "import matplotlib.pyplot as plt\n",
    "import seaborn as sns\n",
    "from datetime import datetime\n",
    "from sklearn.model_selection import TimeSeriesSplit\n",
    "from sklearn.ensemble import RandomForestClassifier\n",
    "from sklearn.impute import SimpleImputer, KNNImputer\n",
    "from sklearn.linear_model import LogisticRegression\n",
    "from sklearn.svm import SVC\n",
    "from sklearn.pipeline import Pipeline\n",
    "from sklearn.preprocessing import StandardScaler\n",
    "from sklearn.model_selection import GridSearchCV\n",
    "from sklearn.metrics import accuracy_score, precision_score, recall_score, f1_score\n",
    "from sklearn.feature_selection import mutual_info_classif\n",
    "from utils.notebook_setup import setup_notebook_env, load_env_variables"
   ]
  },
  {
   "cell_type": "markdown",
   "metadata": {},
   "source": [
    "Setup the notebook environment. Add the project root to `sys.path` so higher-level modules can be accessed from this notebook, and load environment variables that are required to configure connection to the PostgreSQL database."
   ]
  },
  {
   "cell_type": "code",
   "execution_count": 2,
   "metadata": {},
   "outputs": [],
   "source": [
    "setup_notebook_env()\n",
    "load_env_variables()"
   ]
  },
  {
   "cell_type": "markdown",
   "metadata": {},
   "source": [
    "Now, import the remaining dependencies that couldn't be accessed prior to the notebook environment setup, and connect to the database."
   ]
  },
  {
   "cell_type": "code",
   "execution_count": 3,
   "metadata": {},
   "outputs": [],
   "source": [
    "from shared.database import connect_to_db\n",
    "from machine_learning.data.processing.mlb_data_pipeline import MLBDataPipeline\n",
    "\n",
    "session = connect_to_db()"
   ]
  },
  {
   "cell_type": "markdown",
   "metadata": {},
   "source": [
    "### Model Selection\n",
    "\n",
    "Read the relevant database tables into DataFrames so training data can be prepared using the data pipeline class."
   ]
  },
  {
   "cell_type": "code",
   "execution_count": 4,
   "metadata": {},
   "outputs": [],
   "source": [
    "teams_df = pd.read_sql_table(\"mlb_teams\", session.bind)\n",
    "schedule_df = pd.read_sql_table(\"mlb_schedule\", session.bind)\n",
    "offensive_stats_df = pd.read_sql_table(\"mlb_offensive_stats\", session.bind)\n",
    "defensive_stats_df = pd.read_sql_table(\"mlb_defensive_stats\", session.bind)"
   ]
  },
  {
   "cell_type": "markdown",
   "metadata": {},
   "source": [
    "Prepare training data for a given date range."
   ]
  },
  {
   "cell_type": "code",
   "execution_count": 5,
   "metadata": {},
   "outputs": [],
   "source": [
    "data_pipeline = MLBDataPipeline(rolling_window=10, head_to_head_window=5)\n",
    "\n",
    "start_date = datetime(2024, 3, 20)\n",
    "end_date = datetime(2024, 10, 30)\n",
    "\n",
    "training_data = data_pipeline.prepare_training_data(\n",
    "    schedule_df=schedule_df,\n",
    "    teams_df=teams_df,\n",
    "    offensive_stats_df=offensive_stats_df,\n",
    "    defensive_stats_df=defensive_stats_df,\n",
    "    start_date=start_date,\n",
    "    end_date=end_date\n",
    ")"
   ]
  },
  {
   "cell_type": "markdown",
   "metadata": {},
   "source": [
    "Inspect the training data for missing values or any other inconsistencies."
   ]
  },
  {
   "cell_type": "code",
   "execution_count": 6,
   "metadata": {},
   "outputs": [
    {
     "data": {
      "text/html": [
       "<div>\n",
       "<style scoped>\n",
       "    .dataframe tbody tr th:only-of-type {\n",
       "        vertical-align: middle;\n",
       "    }\n",
       "\n",
       "    .dataframe tbody tr th {\n",
       "        vertical-align: top;\n",
       "    }\n",
       "\n",
       "    .dataframe thead th {\n",
       "        text-align: right;\n",
       "    }\n",
       "</style>\n",
       "<table border=\"1\" class=\"dataframe\">\n",
       "  <thead>\n",
       "    <tr style=\"text-align: right;\">\n",
       "      <th></th>\n",
       "      <th>home_rolling_win_pct</th>\n",
       "      <th>away_rolling_win_pct</th>\n",
       "      <th>home_rolling_runs_scored</th>\n",
       "      <th>away_rolling_runs_scored</th>\n",
       "      <th>home_rolling_runs_allowed</th>\n",
       "      <th>away_rolling_runs_allowed</th>\n",
       "      <th>home_days_rest</th>\n",
       "      <th>away_days_rest</th>\n",
       "      <th>home_batting_avg</th>\n",
       "      <th>away_batting_avg</th>\n",
       "      <th>home_obp</th>\n",
       "      <th>away_obp</th>\n",
       "      <th>home_slg</th>\n",
       "      <th>away_slg</th>\n",
       "      <th>home_era</th>\n",
       "      <th>away_era</th>\n",
       "      <th>home_whip</th>\n",
       "      <th>away_whip</th>\n",
       "      <th>home_strikeouts</th>\n",
       "      <th>away_strikeouts</th>\n",
       "      <th>h2h_home_win_pct</th>\n",
       "      <th>h2h_away_win_pct</th>\n",
       "      <th>h2h_games_played</th>\n",
       "      <th>month</th>\n",
       "      <th>day_of_week</th>\n",
       "      <th>is_weekend</th>\n",
       "      <th>game_id</th>\n",
       "      <th>game_date</th>\n",
       "      <th>home_team_id</th>\n",
       "      <th>away_team_id</th>\n",
       "      <th>home_team_won</th>\n",
       "      <th>run_differential</th>\n",
       "    </tr>\n",
       "  </thead>\n",
       "  <tbody>\n",
       "    <tr>\n",
       "      <th>2550</th>\n",
       "      <td>0.7</td>\n",
       "      <td>0.6</td>\n",
       "      <td>6.1</td>\n",
       "      <td>4.4</td>\n",
       "      <td>3.7</td>\n",
       "      <td>4.7</td>\n",
       "      <td>1.0</td>\n",
       "      <td>1.0</td>\n",
       "      <td>0.258</td>\n",
       "      <td>0.263</td>\n",
       "      <td>0.335</td>\n",
       "      <td>0.324</td>\n",
       "      <td>0.446</td>\n",
       "      <td>0.420</td>\n",
       "      <td>3.90</td>\n",
       "      <td>3.86</td>\n",
       "      <td>1.23</td>\n",
       "      <td>1.22</td>\n",
       "      <td>1390</td>\n",
       "      <td>1453</td>\n",
       "      <td>0.6</td>\n",
       "      <td>0.4</td>\n",
       "      <td>5</td>\n",
       "      <td>10</td>\n",
       "      <td>4</td>\n",
       "      <td>0</td>\n",
       "      <td>775317</td>\n",
       "      <td>2024-10-11</td>\n",
       "      <td>119</td>\n",
       "      <td>135</td>\n",
       "      <td>True</td>\n",
       "      <td>2.0</td>\n",
       "    </tr>\n",
       "    <tr>\n",
       "      <th>2551</th>\n",
       "      <td>0.4</td>\n",
       "      <td>0.6</td>\n",
       "      <td>3.4</td>\n",
       "      <td>3.1</td>\n",
       "      <td>3.0</td>\n",
       "      <td>3.2</td>\n",
       "      <td>1.0</td>\n",
       "      <td>1.0</td>\n",
       "      <td>0.238</td>\n",
       "      <td>0.234</td>\n",
       "      <td>0.307</td>\n",
       "      <td>0.300</td>\n",
       "      <td>0.395</td>\n",
       "      <td>0.385</td>\n",
       "      <td>3.61</td>\n",
       "      <td>3.61</td>\n",
       "      <td>1.20</td>\n",
       "      <td>1.16</td>\n",
       "      <td>1410</td>\n",
       "      <td>1354</td>\n",
       "      <td>0.6</td>\n",
       "      <td>0.4</td>\n",
       "      <td>5</td>\n",
       "      <td>10</td>\n",
       "      <td>5</td>\n",
       "      <td>1</td>\n",
       "      <td>775326</td>\n",
       "      <td>2024-10-12</td>\n",
       "      <td>114</td>\n",
       "      <td>116</td>\n",
       "      <td>True</td>\n",
       "      <td>4.0</td>\n",
       "    </tr>\n",
       "    <tr>\n",
       "      <th>2552</th>\n",
       "      <td>0.8</td>\n",
       "      <td>0.6</td>\n",
       "      <td>6.1</td>\n",
       "      <td>4.7</td>\n",
       "      <td>3.3</td>\n",
       "      <td>3.7</td>\n",
       "      <td>2.0</td>\n",
       "      <td>1.0</td>\n",
       "      <td>0.258</td>\n",
       "      <td>0.246</td>\n",
       "      <td>0.335</td>\n",
       "      <td>0.319</td>\n",
       "      <td>0.446</td>\n",
       "      <td>0.415</td>\n",
       "      <td>3.90</td>\n",
       "      <td>3.96</td>\n",
       "      <td>1.23</td>\n",
       "      <td>1.26</td>\n",
       "      <td>1390</td>\n",
       "      <td>1455</td>\n",
       "      <td>0.8</td>\n",
       "      <td>0.2</td>\n",
       "      <td>5</td>\n",
       "      <td>10</td>\n",
       "      <td>6</td>\n",
       "      <td>1</td>\n",
       "      <td>775307</td>\n",
       "      <td>2024-10-13</td>\n",
       "      <td>119</td>\n",
       "      <td>121</td>\n",
       "      <td>True</td>\n",
       "      <td>9.0</td>\n",
       "    </tr>\n",
       "    <tr>\n",
       "      <th>2553</th>\n",
       "      <td>0.8</td>\n",
       "      <td>0.6</td>\n",
       "      <td>6.6</td>\n",
       "      <td>4.3</td>\n",
       "      <td>3.0</td>\n",
       "      <td>3.8</td>\n",
       "      <td>2.0</td>\n",
       "      <td>4.0</td>\n",
       "      <td>0.258</td>\n",
       "      <td>0.246</td>\n",
       "      <td>0.335</td>\n",
       "      <td>0.319</td>\n",
       "      <td>0.446</td>\n",
       "      <td>0.415</td>\n",
       "      <td>3.90</td>\n",
       "      <td>3.96</td>\n",
       "      <td>1.23</td>\n",
       "      <td>1.26</td>\n",
       "      <td>1390</td>\n",
       "      <td>1455</td>\n",
       "      <td>1.0</td>\n",
       "      <td>0.0</td>\n",
       "      <td>5</td>\n",
       "      <td>10</td>\n",
       "      <td>0</td>\n",
       "      <td>0</td>\n",
       "      <td>775306</td>\n",
       "      <td>2024-10-14</td>\n",
       "      <td>119</td>\n",
       "      <td>121</td>\n",
       "      <td>False</td>\n",
       "      <td>-4.0</td>\n",
       "    </tr>\n",
       "    <tr>\n",
       "      <th>2554</th>\n",
       "      <td>0.5</td>\n",
       "      <td>0.5</td>\n",
       "      <td>4.6</td>\n",
       "      <td>3.6</td>\n",
       "      <td>4.4</td>\n",
       "      <td>2.7</td>\n",
       "      <td>1.0</td>\n",
       "      <td>2.0</td>\n",
       "      <td>0.248</td>\n",
       "      <td>0.238</td>\n",
       "      <td>0.333</td>\n",
       "      <td>0.307</td>\n",
       "      <td>0.429</td>\n",
       "      <td>0.395</td>\n",
       "      <td>3.74</td>\n",
       "      <td>3.61</td>\n",
       "      <td>1.24</td>\n",
       "      <td>1.20</td>\n",
       "      <td>1457</td>\n",
       "      <td>1410</td>\n",
       "      <td>0.6</td>\n",
       "      <td>0.4</td>\n",
       "      <td>5</td>\n",
       "      <td>10</td>\n",
       "      <td>0</td>\n",
       "      <td>0</td>\n",
       "      <td>775314</td>\n",
       "      <td>2024-10-14</td>\n",
       "      <td>147</td>\n",
       "      <td>114</td>\n",
       "      <td>True</td>\n",
       "      <td>3.0</td>\n",
       "    </tr>\n",
       "  </tbody>\n",
       "</table>\n",
       "</div>"
      ],
      "text/plain": [
       "      home_rolling_win_pct  away_rolling_win_pct  home_rolling_runs_scored  \\\n",
       "2550                   0.7                   0.6                       6.1   \n",
       "2551                   0.4                   0.6                       3.4   \n",
       "2552                   0.8                   0.6                       6.1   \n",
       "2553                   0.8                   0.6                       6.6   \n",
       "2554                   0.5                   0.5                       4.6   \n",
       "\n",
       "      away_rolling_runs_scored  home_rolling_runs_allowed  \\\n",
       "2550                       4.4                        3.7   \n",
       "2551                       3.1                        3.0   \n",
       "2552                       4.7                        3.3   \n",
       "2553                       4.3                        3.0   \n",
       "2554                       3.6                        4.4   \n",
       "\n",
       "      away_rolling_runs_allowed  home_days_rest  away_days_rest  \\\n",
       "2550                        4.7             1.0             1.0   \n",
       "2551                        3.2             1.0             1.0   \n",
       "2552                        3.7             2.0             1.0   \n",
       "2553                        3.8             2.0             4.0   \n",
       "2554                        2.7             1.0             2.0   \n",
       "\n",
       "      home_batting_avg  away_batting_avg  home_obp  away_obp  home_slg  \\\n",
       "2550             0.258             0.263     0.335     0.324     0.446   \n",
       "2551             0.238             0.234     0.307     0.300     0.395   \n",
       "2552             0.258             0.246     0.335     0.319     0.446   \n",
       "2553             0.258             0.246     0.335     0.319     0.446   \n",
       "2554             0.248             0.238     0.333     0.307     0.429   \n",
       "\n",
       "      away_slg  home_era  away_era  home_whip  away_whip  home_strikeouts  \\\n",
       "2550     0.420      3.90      3.86       1.23       1.22             1390   \n",
       "2551     0.385      3.61      3.61       1.20       1.16             1410   \n",
       "2552     0.415      3.90      3.96       1.23       1.26             1390   \n",
       "2553     0.415      3.90      3.96       1.23       1.26             1390   \n",
       "2554     0.395      3.74      3.61       1.24       1.20             1457   \n",
       "\n",
       "      away_strikeouts  h2h_home_win_pct  h2h_away_win_pct  h2h_games_played  \\\n",
       "2550             1453               0.6               0.4                 5   \n",
       "2551             1354               0.6               0.4                 5   \n",
       "2552             1455               0.8               0.2                 5   \n",
       "2553             1455               1.0               0.0                 5   \n",
       "2554             1410               0.6               0.4                 5   \n",
       "\n",
       "      month  day_of_week  is_weekend game_id  game_date  home_team_id  \\\n",
       "2550     10            4           0  775317 2024-10-11           119   \n",
       "2551     10            5           1  775326 2024-10-12           114   \n",
       "2552     10            6           1  775307 2024-10-13           119   \n",
       "2553     10            0           0  775306 2024-10-14           119   \n",
       "2554     10            0           0  775314 2024-10-14           147   \n",
       "\n",
       "      away_team_id  home_team_won  run_differential  \n",
       "2550           135           True               2.0  \n",
       "2551           116           True               4.0  \n",
       "2552           121           True               9.0  \n",
       "2553           121          False              -4.0  \n",
       "2554           114           True               3.0  "
      ]
     },
     "execution_count": 6,
     "metadata": {},
     "output_type": "execute_result"
    }
   ],
   "source": [
    "pd.set_option('display.max_columns', None)\n",
    "training_data.tail()"
   ]
  },
  {
   "cell_type": "markdown",
   "metadata": {},
   "source": [
    "Create an instance of the `TimeSeriesSplit` Time Series cross-validator, and drop any irrelevant columns from the training data. Define and instantiate the models to be evaluated, and create the empty `results` object to be used to store the performance metrics for each model."
   ]
  },
  {
   "cell_type": "code",
   "execution_count": 7,
   "metadata": {},
   "outputs": [],
   "source": [
    "tscv = TimeSeriesSplit(n_splits=5)\n",
    "\n",
    "timestamp_cols = training_data.select_dtypes(include=[\"datetime64\"]).columns\n",
    "\n",
    "feature_cols = [col for col in training_data.columns if col not in [\"home_team_won\", \"run_differential\"] + list(timestamp_cols)]\n",
    "\n",
    "models = {\n",
    "    \"random_forest\": RandomForestClassifier(n_estimators=100, random_state=42),\n",
    "    \"logistic_regression\": LogisticRegression(max_iter=10000, random_state=42),\n",
    "    \"svc\": SVC(random_state=42)\n",
    "}\n",
    "\n",
    "results = {}"
   ]
  },
  {
   "cell_type": "markdown",
   "metadata": {},
   "source": [
    "Fit and train each model, using the Time Series cross-validator to split the data into training and test splits. Impute missing values in the training data, since NaN values are not accepted by the `LinearRegression` model. Then, make predictions and evaluate the results of each model for each fold of the training data, storing the results in a dictionary."
   ]
  },
  {
   "cell_type": "code",
   "execution_count": 8,
   "metadata": {},
   "outputs": [
    {
     "name": "stderr",
     "output_type": "stream",
     "text": [
      "/Users/josephbarkie/Coding/betbot/venv/lib/python3.11/site-packages/sklearn/linear_model/_logistic.py:469: ConvergenceWarning: lbfgs failed to converge (status=1):\n",
      "STOP: TOTAL NO. of ITERATIONS REACHED LIMIT.\n",
      "\n",
      "Increase the number of iterations (max_iter) or scale the data as shown in:\n",
      "    https://scikit-learn.org/stable/modules/preprocessing.html\n",
      "Please also refer to the documentation for alternative solver options:\n",
      "    https://scikit-learn.org/stable/modules/linear_model.html#logistic-regression\n",
      "  n_iter_i = _check_optimize_result(\n",
      "/Users/josephbarkie/Coding/betbot/venv/lib/python3.11/site-packages/sklearn/metrics/_classification.py:1531: UndefinedMetricWarning: Precision is ill-defined and being set to 0.0 due to no predicted samples. Use `zero_division` parameter to control this behavior.\n",
      "  _warn_prf(average, modifier, f\"{metric.capitalize()} is\", len(result))\n"
     ]
    }
   ],
   "source": [
    "imputer = SimpleImputer(strategy='mean')\n",
    "\n",
    "for name, model in models.items():\n",
    "    fold_scores = []\n",
    "    for train_index, test_index in tscv.split(training_data):\n",
    "        X_train, X_test = training_data.iloc[train_index][feature_cols], training_data.iloc[test_index][feature_cols]\n",
    "        y_train, y_test = training_data.iloc[train_index][\"home_team_won\"], training_data.iloc[test_index][\"home_team_won\"]\n",
    "\n",
    "        X_train = imputer.fit_transform(X_train)\n",
    "        X_test = imputer.transform(X_test)\n",
    "\n",
    "        model.fit(X_train, y_train)\n",
    "        y_pred = model.predict(X_test)\n",
    "\n",
    "        scores = {\n",
    "            \"accuracy\": accuracy_score(y_test, y_pred),\n",
    "            \"precision\": precision_score(y_test, y_pred),\n",
    "            \"recall\": recall_score(y_test, y_pred),\n",
    "            \"f1\": f1_score(y_test, y_pred)\n",
    "        }\n",
    "        fold_scores.append(scores)\n",
    "        \n",
    "    results[name] = fold_scores"
   ]
  },
  {
   "cell_type": "markdown",
   "metadata": {},
   "source": [
    "Inspect the average results of each model."
   ]
  },
  {
   "cell_type": "code",
   "execution_count": 9,
   "metadata": {},
   "outputs": [
    {
     "name": "stdout",
     "output_type": "stream",
     "text": [
      "\n",
      "random_forest mean results:\n",
      "accuracy     0.538353\n",
      "precision    0.566571\n",
      "recall       0.557551\n",
      "f1           0.558053\n",
      "dtype: float64\n",
      "\n",
      "logistic_regression mean results:\n",
      "accuracy     0.543059\n",
      "precision    0.563774\n",
      "recall       0.699003\n",
      "f1           0.610889\n",
      "dtype: float64\n",
      "\n",
      "svc mean results:\n",
      "accuracy     0.507294\n",
      "precision    0.417882\n",
      "recall       0.800000\n",
      "f1           0.548830\n",
      "dtype: float64\n"
     ]
    }
   ],
   "source": [
    "for model_name, scores in results.items():\n",
    "    df = pd.DataFrame(scores)\n",
    "    print(f\"\\n{model_name} mean results:\")\n",
    "    print(df.mean())"
   ]
  },
  {
   "cell_type": "markdown",
   "metadata": {},
   "source": [
    "### Hyperparameter Tuning \n",
    "\n",
    "Implement hyperparameter tuning using `GridSearchCV` with time series cross-validation in an effort to improve model performance. First, handle missing values in the training data, since most `sklearn` models can't handle NaN values directly. This will be accomplished in preprocessing pipelines for each model, in which NaN values are filled with a mean and the features are scaled. Update the existing `models` dictionary to include these preprocessing steps."
   ]
  },
  {
   "cell_type": "code",
   "execution_count": 10,
   "metadata": {},
   "outputs": [
    {
     "name": "stdout",
     "output_type": "stream",
     "text": [
      "Columns with NaN values:\n",
      "home_rolling_win_pct         139\n",
      "away_rolling_win_pct         129\n",
      "home_rolling_runs_scored     139\n",
      "away_rolling_runs_scored     129\n",
      "home_rolling_runs_allowed    139\n",
      "away_rolling_runs_allowed    129\n",
      "home_days_rest                16\n",
      "away_days_rest                18\n",
      "dtype: int64\n"
     ]
    }
   ],
   "source": [
    "print(\"Columns with NaN values:\")\n",
    "print(training_data[feature_cols].isna().sum()[training_data[feature_cols].isna().sum() > 0])\n",
    "\n",
    "preprocessing = Pipeline([\n",
    "    ('imputer', SimpleImputer(strategy='mean')), \n",
    "    ('scaler', StandardScaler())  \n",
    "])\n",
    "\n",
    "models = {\n",
    "    \"random_forest\": Pipeline([\n",
    "        ('preprocessing', preprocessing),\n",
    "        ('model', RandomForestClassifier(random_state=42))\n",
    "    ]),\n",
    "    \"logistic_regression\": Pipeline([\n",
    "        ('preprocessing', preprocessing),\n",
    "        ('model', LogisticRegression(random_state=42))\n",
    "    ]),\n",
    "    \"svc\": Pipeline([\n",
    "        ('preprocessing', preprocessing),\n",
    "        ('model', SVC(random_state=42))\n",
    "    ])\n",
    "}"
   ]
  },
  {
   "cell_type": "markdown",
   "metadata": {},
   "source": [
    "Define parameter grids for each model and initialize dictionaries to store the results."
   ]
  },
  {
   "cell_type": "code",
   "execution_count": 11,
   "metadata": {},
   "outputs": [],
   "source": [
    "param_grids = {\n",
    "    \"random_forest\": {\n",
    "        \"model__n_estimators\": [100, 200, 300],\n",
    "        \"model__max_depth\": [None, 10, 20, 30],\n",
    "        \"model__min_samples_split\": [2, 5, 10],\n",
    "        \"model__min_samples_leaf\": [1, 2, 4]\n",
    "    },\n",
    "    \"logistic_regression\": {\n",
    "        \"model__C\": [0.1, 1, 10, 100],\n",
    "        \"model__penalty\": [\"l1\", \"l2\"],\n",
    "        \"model__solver\": [\"liblinear\", \"saga\"]\n",
    "    },\n",
    "    \"svc\": {\n",
    "        \"model__C\": [0.1, 1, 10, 100],\n",
    "        \"model__kernel\": [\"linear\", \"poly\", \"rbf\"],\n",
    "        \"model__gamma\": [\"scale\", \"auto\"]\n",
    "    }\n",
    "}\n",
    "\n",
    "best_models = {}\n",
    "results = {}"
   ]
  },
  {
   "cell_type": "markdown",
   "metadata": {},
   "source": [
    "Next, create a `GridSearchCV` object with the appropriate time series split and fit the grid search. Store the best model and collect the results."
   ]
  },
  {
   "cell_type": "code",
   "execution_count": 12,
   "metadata": {},
   "outputs": [
    {
     "name": "stdout",
     "output_type": "stream",
     "text": [
      "\n",
      "Tuning random_forest...\n",
      "Fitting 5 folds for each of 108 candidates, totalling 540 fits\n",
      "Best parameters for random_forest:\n",
      "{'model__max_depth': 10, 'model__min_samples_leaf': 4, 'model__min_samples_split': 2, 'model__n_estimators': 300}\n",
      "Best cross-validation score: 0.553\n",
      "\n",
      "Tuning logistic_regression...\n",
      "Fitting 5 folds for each of 16 candidates, totalling 80 fits\n",
      "Best parameters for logistic_regression:\n",
      "{'model__C': 0.1, 'model__penalty': 'l1', 'model__solver': 'liblinear'}\n",
      "Best cross-validation score: 0.570\n",
      "\n",
      "Tuning svc...\n",
      "Fitting 5 folds for each of 24 candidates, totalling 120 fits\n",
      "Best parameters for svc:\n",
      "{'model__C': 0.1, 'model__gamma': 'scale', 'model__kernel': 'linear'}\n",
      "Best cross-validation score: 0.560\n"
     ]
    }
   ],
   "source": [
    "for name, model in models.items():\n",
    "        print(f\"\\nTuning {name}...\")\n",
    "\n",
    "        grid_search = GridSearchCV(\n",
    "            estimator=model,\n",
    "            param_grid=param_grids[name],\n",
    "            cv=tscv,\n",
    "            scoring='accuracy',\n",
    "            n_jobs=-1,\n",
    "            verbose=1\n",
    "        )\n",
    "        \n",
    "        grid_search.fit(training_data[feature_cols], training_data[\"home_team_won\"])\n",
    "        \n",
    "        best_models[name] = grid_search.best_estimator_\n",
    "        \n",
    "        fold_scores = []\n",
    "        for train_index, test_index in tscv.split(training_data):\n",
    "            X_train = training_data.iloc[train_index][feature_cols]\n",
    "            X_test = training_data.iloc[test_index][feature_cols]\n",
    "            y_train = training_data.iloc[train_index][\"home_team_won\"]\n",
    "            y_test = training_data.iloc[test_index][\"home_team_won\"]\n",
    "            \n",
    "            best_models[name].fit(X_train, y_train)\n",
    "            y_pred = best_models[name].predict(X_test)\n",
    "            \n",
    "            scores = {\n",
    "                \"accuracy\": accuracy_score(y_test, y_pred),\n",
    "                \"precision\": precision_score(y_test, y_pred),\n",
    "                \"recall\": recall_score(y_test, y_pred),\n",
    "                \"f1\": f1_score(y_test, y_pred)\n",
    "            }\n",
    "            fold_scores.append(scores)\n",
    "        \n",
    "        results[name] = fold_scores\n",
    "        \n",
    "        print(f\"Best parameters for {name}:\")\n",
    "        print(grid_search.best_params_)\n",
    "        print(f\"Best cross-validation score: {grid_search.best_score_:.3f}\")"
   ]
  },
  {
   "cell_type": "markdown",
   "metadata": {},
   "source": [
    "Evaluate the average performance of each model."
   ]
  },
  {
   "cell_type": "code",
   "execution_count": 13,
   "metadata": {},
   "outputs": [
    {
     "name": "stdout",
     "output_type": "stream",
     "text": [
      "\n",
      "Tuned Model Performance:\n",
      "\n",
      "random_forest:\n",
      "accuracy     0.553412\n",
      "precision    0.580463\n",
      "recall       0.601108\n",
      "f1           0.581753\n",
      "dtype: float64\n",
      "\n",
      "logistic_regression:\n",
      "accuracy     0.570353\n",
      "precision    0.590755\n",
      "recall       0.666564\n",
      "f1           0.614288\n",
      "dtype: float64\n",
      "\n",
      "svc:\n",
      "accuracy     0.560471\n",
      "precision    0.575481\n",
      "recall       0.693552\n",
      "f1           0.617996\n",
      "dtype: float64\n"
     ]
    }
   ],
   "source": [
    "print(\"\\nTuned Model Performance:\")\n",
    "for model_name, scores in results.items():\n",
    "    df = pd.DataFrame(scores)\n",
    "    print(f\"\\n{model_name}:\")\n",
    "    print(df.mean())"
   ]
  },
  {
   "cell_type": "markdown",
   "metadata": {},
   "source": [
    "Visualize the results in a bar chart."
   ]
  },
  {
   "cell_type": "code",
   "execution_count": 14,
   "metadata": {},
   "outputs": [
    {
     "data": {
      "image/png": "[encoded data removed]",
      "text/plain": [
       "<Figure size 1200x600 with 1 Axes>"
      ]
     },
     "metadata": {},
     "output_type": "display_data"
    }
   ],
   "source": [
    "plt.figure(figsize=(12, 6))\n",
    "metrics_df = pd.DataFrame([\n",
    "    {\n",
    "        'Model': model_name,\n",
    "        'Accuracy': pd.DataFrame(scores).accuracy.mean(),\n",
    "        'F1 Score': pd.DataFrame(scores).f1.mean()\n",
    "    }\n",
    "    for model_name, scores in results.items()\n",
    "])\n",
    "\n",
    "metrics_df_melted = pd.melt(metrics_df, id_vars=['Model'], var_name='Metric', value_name='Score')\n",
    "sns.barplot(data=metrics_df_melted, x='Model', y='Score', hue='Metric')\n",
    "plt.title('Model Performance Comparison')\n",
    "plt.xticks(rotation=45)\n",
    "plt.tight_layout()\n",
    "plt.show()"
   ]
  },
  {
   "cell_type": "markdown",
   "metadata": {},
   "source": [
    "### Trying Different Imputation Strategies\n",
    "\n",
    "Since using mean imputation could introduce bias, especially in early season statistics, let's see if different imputation strategies have any impact on model performance. First, analyze missing values."
   ]
  },
  {
   "cell_type": "code",
   "execution_count": 29,
   "metadata": {},
   "outputs": [
    {
     "name": "stdout",
     "output_type": "stream",
     "text": [
      "\n",
      "Missing Values by Statistic Type:\n",
      "\n",
      "Rolling Stats Missing Values:\n",
      "home_rolling_win_pct         139\n",
      "away_rolling_win_pct         129\n",
      "home_rolling_runs_scored     139\n",
      "away_rolling_runs_scored     129\n",
      "home_rolling_runs_allowed    139\n",
      "away_rolling_runs_allowed    129\n",
      "dtype: int64\n",
      "\n",
      "Rest Days Missing Values:\n",
      "home_days_rest    16\n",
      "away_days_rest    18\n",
      "dtype: int64\n",
      "\n",
      "Season Distribution:\n",
      "Early season games (first 30 days) with missing values: 146\n",
      "Later season games with missing values: 0\n"
     ]
    },
    {
     "data": {
      "image/png": "[encoded data removed]",
      "text/plain": [
       "<Figure size 1500x600 with 1 Axes>"
      ]
     },
     "metadata": {},
     "output_type": "display_data"
    }
   ],
   "source": [
    "def analyze_missing_patterns(data):\n",
    "    missing_counts = pd.DataFrame()\n",
    "    for col in feature_cols:\n",
    "        missing_counts[col] = data.set_index('game_date')[col].isnull()\n",
    "    \n",
    "    missing_by_date = missing_counts.resample('D').sum()\n",
    "    \n",
    "    team_first_data = {}\n",
    "    for team_id in set(data['home_team_id'].unique()) | set(data['away_team_id'].unique()):\n",
    "        team_games = data[(data['home_team_id'] == team_id) | (data['away_team_id'] == team_id)]\n",
    "        first_complete = team_games[~team_games[feature_cols].isnull().any(axis=1)].iloc[0] if len(team_games) > 0 else None\n",
    "        team_first_data[team_id] = first_complete['game_date'] if first_complete is not None else None\n",
    "\n",
    "    rolling_stats_missing = data[[\n",
    "        'home_rolling_win_pct', 'away_rolling_win_pct',\n",
    "        'home_rolling_runs_scored', 'away_rolling_runs_scored',\n",
    "        'home_rolling_runs_allowed', 'away_rolling_runs_allowed'\n",
    "    ]].isnull().sum()\n",
    "    \n",
    "    rest_days_missing = data[['home_days_rest', 'away_days_rest']].isnull().sum()\n",
    "    \n",
    "    print(\"\\nMissing Values by Statistic Type:\")\n",
    "    print(\"\\nRolling Stats Missing Values:\")\n",
    "    print(rolling_stats_missing)\n",
    "    print(\"\\nRest Days Missing Values:\")\n",
    "    print(rest_days_missing)\n",
    "    \n",
    "    early_season_missing = data[data['game_date'] < data['game_date'].min() + pd.Timedelta(days=30)]\n",
    "    late_season_missing = data[data['game_date'] >= data['game_date'].min() + pd.Timedelta(days=30)]\n",
    "    \n",
    "    print(f\"\\nSeason Distribution:\")\n",
    "    print(f\"Early season games (first 30 days) with missing values: {early_season_missing.isnull().any(axis=1).sum()}\")\n",
    "    print(f\"Later season games with missing values: {late_season_missing.isnull().any(axis=1).sum()}\")\n",
    "    \n",
    "    return missing_by_date, team_first_data\n",
    "\n",
    "missing_by_date, team_first_data = analyze_missing_patterns(training_data)\n",
    "\n",
    "plt.figure(figsize=(15, 6))\n",
    "missing_by_date.sum(axis=1).plot()\n",
    "plt.title('Missing Values Over Time')\n",
    "plt.xlabel('Date')\n",
    "plt.ylabel('Number of Missing Values')\n",
    "plt.xticks(rotation=45)\n",
    "plt.tight_layout()\n",
    "plt.show()"
   ]
  },
  {
   "cell_type": "markdown",
   "metadata": {},
   "source": [
    "Next, create different preprocessing pipelines with various imputation strategies."
   ]
  },
  {
   "cell_type": "code",
   "execution_count": 16,
   "metadata": {},
   "outputs": [],
   "source": [
    "preprocessing_pipelines = {\n",
    "    \"mean\": Pipeline([\n",
    "        ('imputer', SimpleImputer(strategy='mean')),\n",
    "        ('scaler', StandardScaler())\n",
    "    ]),\n",
    "    \"median\": Pipeline([\n",
    "        ('imputer', SimpleImputer(strategy='median')),\n",
    "        ('scaler', StandardScaler())\n",
    "    ]),\n",
    "    \"most_frequent\": Pipeline([\n",
    "        ('imputer', SimpleImputer(strategy='most_frequent')),\n",
    "        ('scaler', StandardScaler())\n",
    "    ]),\n",
    "    \"constant\": Pipeline([\n",
    "        ('imputer', SimpleImputer(strategy='constant', fill_value=0)),\n",
    "        ('scaler', StandardScaler())\n",
    "    ]),\n",
    "    \"knn\": Pipeline([\n",
    "        ('imputer', KNNImputer(n_neighbors=5)),\n",
    "        ('scaler', StandardScaler())\n",
    "    ])\n",
    "}"
   ]
  },
  {
   "cell_type": "markdown",
   "metadata": {},
   "source": [
    "Now, new models would be created according to the different imputation strategies. Let's start with just a Random Forest classifier to see if we can achieve any improvement in performance."
   ]
  },
  {
   "cell_type": "code",
   "execution_count": 17,
   "metadata": {},
   "outputs": [],
   "source": [
    "models = {}\n",
    "param_grids = {}\n",
    "\n",
    "base_model = RandomForestClassifier(random_state=42)\n",
    "for imp_name, preprocessing in preprocessing_pipelines.items():\n",
    "    model_name = f\"rf_{imp_name}\"\n",
    "    models[model_name] = Pipeline([\n",
    "        ('preprocessing', preprocessing),\n",
    "        ('model', base_model)\n",
    "    ])\n",
    "    param_grids[model_name] = {\n",
    "        \"model__n_estimators\": [100, 200, 300],\n",
    "        \"model__max_depth\": [None, 10, 20, 30],\n",
    "        \"model__min_samples_split\": [2, 5, 10],\n",
    "        \"model__min_samples_leaf\": [1, 2, 4]\n",
    "    }"
   ]
  },
  {
   "cell_type": "markdown",
   "metadata": {},
   "source": [
    "Finally, let's evaluate the results."
   ]
  },
  {
   "cell_type": "code",
   "execution_count": 18,
   "metadata": {},
   "outputs": [
    {
     "name": "stdout",
     "output_type": "stream",
     "text": [
      "\n",
      "Tuning rf_mean...\n",
      "Fitting 5 folds for each of 108 candidates, totalling 540 fits\n",
      "\n",
      "Tuning rf_median...\n",
      "Fitting 5 folds for each of 108 candidates, totalling 540 fits\n",
      "\n",
      "Tuning rf_most_frequent...\n",
      "Fitting 5 folds for each of 108 candidates, totalling 540 fits\n",
      "\n",
      "Tuning rf_constant...\n",
      "Fitting 5 folds for each of 108 candidates, totalling 540 fits\n",
      "\n",
      "Tuning rf_knn...\n",
      "Fitting 5 folds for each of 108 candidates, totalling 540 fits\n",
      "\n",
      "Model Performance Comparison:\n",
      "\n",
      "rf_mean:\n",
      "Best CV Score: 0.553\n",
      "Best Parameters: {'model__max_depth': 10, 'model__min_samples_leaf': 4, 'model__min_samples_split': 2, 'model__n_estimators': 300}\n",
      "\n",
      "rf_median:\n",
      "Best CV Score: 0.554\n",
      "Best Parameters: {'model__max_depth': 10, 'model__min_samples_leaf': 4, 'model__min_samples_split': 2, 'model__n_estimators': 300}\n",
      "\n",
      "rf_most_frequent:\n",
      "Best CV Score: 0.552\n",
      "Best Parameters: {'model__max_depth': 10, 'model__min_samples_leaf': 4, 'model__min_samples_split': 2, 'model__n_estimators': 300}\n",
      "\n",
      "rf_constant:\n",
      "Best CV Score: 0.551\n",
      "Best Parameters: {'model__max_depth': 10, 'model__min_samples_leaf': 4, 'model__min_samples_split': 2, 'model__n_estimators': 100}\n",
      "\n",
      "rf_knn:\n",
      "Best CV Score: 0.554\n",
      "Best Parameters: {'model__max_depth': 10, 'model__min_samples_leaf': 1, 'model__min_samples_split': 10, 'model__n_estimators': 200}\n"
     ]
    },
    {
     "data": {
      "image/png": "[encoded data removed]",
      "text/plain": [
       "<Figure size 1200x600 with 1 Axes>"
      ]
     },
     "metadata": {},
     "output_type": "display_data"
    }
   ],
   "source": [
    "results = {}\n",
    "for name, model in models.items():\n",
    "    print(f\"\\nTuning {name}...\")\n",
    "\n",
    "    grid_search = GridSearchCV(\n",
    "        estimator=model,\n",
    "        param_grid=param_grids[name],\n",
    "        cv=tscv,\n",
    "        scoring='accuracy',\n",
    "        n_jobs=-1,\n",
    "        verbose=1\n",
    "    )\n",
    "\n",
    "    grid_search.fit(training_data[feature_cols], training_data[\"home_team_won\"])\n",
    "    \n",
    "    results[name] = {\n",
    "        'best_score': grid_search.best_score_,\n",
    "        'best_params': grid_search.best_params_\n",
    "    }\n",
    "\n",
    "print(\"\\nModel Performance Comparison:\")\n",
    "for name, result in results.items():\n",
    "    print(f\"\\n{name}:\")\n",
    "    print(f\"Best CV Score: {result['best_score']:.3f}\")\n",
    "    print(f\"Best Parameters: {result['best_params']}\")\n",
    "\n",
    "plt.figure(figsize=(12, 6))\n",
    "scores = [result['best_score'] for result in results.values()]\n",
    "names = list(results.keys())\n",
    "plt.bar(names, scores)\n",
    "plt.xticks(rotation=45)\n",
    "plt.title('Model Performance with Different Imputation Strategies')\n",
    "plt.ylabel('Cross-Validation Accuracy')\n",
    "plt.tight_layout()\n",
    "plt.show()"
   ]
  },
  {
   "cell_type": "markdown",
   "metadata": {},
   "source": [
    "### Feature Analysis\n",
    "\n",
    "To better understand the features' relationship with the target variable, identify which features contribute most to predictions and which might be redundant or adding noise."
   ]
  },
  {
   "cell_type": "code",
   "execution_count": 36,
   "metadata": {},
   "outputs": [],
   "source": [
    "def analyze_features(X, y, feature_names):\n",
    "    \"\"\"\n",
    "    Analyze feature importance and relationships with target variable.\n",
    "    \n",
    "    Parameters:\n",
    "    X: Feature matrix (after imputation)\n",
    "    y: Target variable\n",
    "    feature_names: List of feature names\n",
    "    \"\"\"\n",
    "    mi_scores = mutual_info_classif(X, y)\n",
    "    \n",
    "    feature_importance = pd.DataFrame({\n",
    "        'Feature': feature_names,\n",
    "        'Mutual Information': mi_scores\n",
    "    }).sort_values('Mutual Information', ascending=False)\n",
    "    \n",
    "    correlation_matrix = pd.DataFrame(X, columns=feature_names).corr()\n",
    "    \n",
    "    high_correlation_pairs = []\n",
    "    for i in range(len(correlation_matrix.columns)):\n",
    "        for j in range(i+1, len(correlation_matrix.columns)):\n",
    "            if abs(correlation_matrix.iloc[i,j]) > 0.8:\n",
    "                high_correlation_pairs.append({\n",
    "                    'Feature 1': correlation_matrix.columns[i],\n",
    "                    'Feature 2': correlation_matrix.columns[j],\n",
    "                    'Correlation': correlation_matrix.iloc[i,j]\n",
    "                })\n",
    "    \n",
    "    return feature_importance, pd.DataFrame(high_correlation_pairs)"
   ]
  },
  {
   "cell_type": "code",
   "execution_count": 37,
   "metadata": {},
   "outputs": [],
   "source": [
    "X_imputed = preprocessing_pipelines['mean'].fit_transform(training_data[feature_cols])\n",
    "feature_importance, high_correlation_pairs = analyze_features(X_imputed, training_data['home_team_won'], feature_cols)"
   ]
  },
  {
   "cell_type": "code",
   "execution_count": 38,
   "metadata": {},
   "outputs": [
    {
     "data": {
      "image/png": "[encoded data removed]",
      "text/plain": [
       "<Figure size 1200x600 with 1 Axes>"
      ]
     },
     "metadata": {},
     "output_type": "display_data"
    }
   ],
   "source": [
    "plt.figure(figsize=(12, 6))\n",
    "sns.barplot(data=feature_importance.head(10), x='Mutual Information', y='Feature')\n",
    "plt.title('Top 10 Features by Mutual Information')\n",
    "plt.tight_layout()\n",
    "plt.show()"
   ]
  }
 ],
 "metadata": {
  "kernelspec": {
   "display_name": "venv",
   "language": "python",
   "name": "python3"
  },
  "language_info": {
   "codemirror_mode": {
    "name": "ipython",
    "version": 3
   },
   "file_extension": ".py",
   "mimetype": "text/x-python",
   "name": "python",
   "nbconvert_exporter": "python",
   "pygments_lexer": "ipython3",
   "version": "3.11.5"
  }
 },
 "nbformat": 4,
 "nbformat_minor": 2
}
